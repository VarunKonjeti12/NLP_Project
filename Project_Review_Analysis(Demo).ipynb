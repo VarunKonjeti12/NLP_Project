{
 "cells": [
  {
   "cell_type": "code",
   "execution_count": 1,
   "id": "ac1b53ab",
   "metadata": {},
   "outputs": [],
   "source": [
    "import nltk\n",
    "from summarizer import Summarizer\n",
    "from sklearn.feature_extraction.text import TfidfVectorizer\n",
    "from textblob import TextBlob\n"
   ]
  },
  {
   "cell_type": "code",
   "execution_count": 2,
   "id": "ee3a0601",
   "metadata": {},
   "outputs": [],
   "source": [
    "# Sample review data\n",
    "review_text = 'They are not reliable, dishonest and not operating with integrity I recommend them to anyone who is looking for some great mechanics. Tony always takes the time to answer any questions I may have, and provides me with all the options available- from repair to replacement. As a woman, it can be difficult to find mechanics you can trust with your vehicle, so Im very happy to have been referred to GT Auto. Tony and John are the best!'\n"
   ]
  },
  {
   "cell_type": "code",
   "execution_count": 3,
   "id": "cda3d147",
   "metadata": {},
   "outputs": [
    {
     "data": {
      "application/vnd.jupyter.widget-view+json": {
       "model_id": "80a4049aa5a6469889b5b995c121be34",
       "version_major": 2,
       "version_minor": 0
      },
      "text/plain": [
       "Downloading model.safetensors:   0%|          | 0.00/1.34G [00:00<?, ?B/s]"
      ]
     },
     "metadata": {},
     "output_type": "display_data"
    },
    {
     "name": "stderr",
     "output_type": "stream",
     "text": [
      "Some weights of the model checkpoint at bert-large-uncased were not used when initializing BertModel: ['cls.predictions.transform.dense.bias', 'cls.seq_relationship.bias', 'cls.predictions.transform.dense.weight', 'cls.predictions.bias', 'cls.seq_relationship.weight', 'cls.predictions.transform.LayerNorm.weight', 'cls.predictions.transform.LayerNorm.bias']\n",
      "- This IS expected if you are initializing BertModel from the checkpoint of a model trained on another task or with another architecture (e.g. initializing a BertForSequenceClassification model from a BertForPreTraining model).\n",
      "- This IS NOT expected if you are initializing BertModel from the checkpoint of a model that you expect to be exactly identical (initializing a BertForSequenceClassification model from a BertForSequenceClassification model).\n",
      "/Users/varunkumarkonjeti/anaconda3/lib/python3.11/site-packages/sklearn/cluster/_kmeans.py:1412: FutureWarning: The default value of `n_init` will change from 10 to 'auto' in 1.4. Set the value of `n_init` explicitly to suppress the warning\n",
      "  super()._check_params_vs_input(X, default_n_init=10)\n"
     ]
    }
   ],
   "source": [
    "### Step 3: Text Summarization\n",
    "#  Extractive Summarization using BERT\n",
    "bert_model = Summarizer()\n",
    "summary = bert_model(review_text)\n"
   ]
  },
  {
   "cell_type": "code",
   "execution_count": 4,
   "id": "6d54c22a",
   "metadata": {},
   "outputs": [],
   "source": [
    "## Step 4: Keyword Extraction\n",
    "# TF-IDF Keyword Extraction using scikit-learn\n",
    "tfidf_vectorizer = TfidfVectorizer(stop_words='english')\n",
    "tfidf_matrix = tfidf_vectorizer.fit_transform([summary])\n",
    "feature_names = tfidf_vectorizer.get_feature_names_out()\n"
   ]
  },
  {
   "cell_type": "code",
   "execution_count": 6,
   "id": "f14867ed",
   "metadata": {},
   "outputs": [],
   "source": [
    "# Get the top N keywords\n",
    "top_keywords = [feature_names[i] for i in tfidf_matrix.sum(axis=0).argsort()[0, ::-1][:5]]\n"
   ]
  },
  {
   "cell_type": "code",
   "execution_count": 7,
   "id": "c4404f70",
   "metadata": {},
   "outputs": [],
   "source": [
    "### Step 5: Sentiment Analysis\n",
    "# Sentiment analysis using TextBlob\n",
    "blob = TextBlob(summary)\n",
    "sentiment = blob.sentiment.polarity  # Range between -1 and 1\n"
   ]
  },
  {
   "cell_type": "code",
   "execution_count": 8,
   "id": "d103c87a",
   "metadata": {},
   "outputs": [
    {
     "data": {
      "text/plain": [
       "0.3"
      ]
     },
     "execution_count": 8,
     "metadata": {},
     "output_type": "execute_result"
    }
   ],
   "source": [
    "sentiment"
   ]
  },
  {
   "cell_type": "code",
   "execution_count": 9,
   "id": "6375bc38",
   "metadata": {},
   "outputs": [],
   "source": [
    "# Interpret sentiment\n",
    "if sentiment > 0:\n",
    "    sentiment_label = \"Positive\"\n",
    "elif sentiment < 0:\n",
    "    sentiment_label = \"Negative\"\n",
    "else:\n",
    "    sentiment_label = \"Neutral\"\n"
   ]
  },
  {
   "cell_type": "code",
   "execution_count": 10,
   "id": "25222ff3",
   "metadata": {},
   "outputs": [
    {
     "name": "stdout",
     "output_type": "stream",
     "text": [
      "Original Review:\n",
      " They are not reliable, dishonest and not operating with integrity I recommend them to anyone who is looking for some great mechanics. Tony always takes the time to answer any questions I may have, and provides me with all the options available- from repair to replacement. As a woman, it can be difficult to find mechanics you can trust with your vehicle, so Im very happy to have been referred to GT Auto. Tony and John are the best!\n",
      "\n",
      "Summarized Review:\n",
      " They are not reliable, dishonest and not operating with integrity I recommend them to anyone who is looking for some great mechanics. Tony always takes the time to answer any questions I may have, and provides me with all the options available- from repair to replacement.\n",
      "\n",
      "Top Keywords: [array([['tony', 'time', 'available', 'dishonest', 'great', 'integrity',\n",
      "        'looking', 'mechanics', 'operating', 'options', 'provides',\n",
      "        'questions', 'recommend', 'reliable', 'repair', 'replacement',\n",
      "        'takes', 'answer']], dtype=object)]\n",
      "\n",
      "Sentiment: Positive\n"
     ]
    }
   ],
   "source": [
    "### Step 6: Output\n",
    "print(\"Original Review:\\n\", review_text)\n",
    "print(\"\\nSummarized Review:\\n\", summary)\n",
    "print(\"\\nTop Keywords:\", top_keywords)\n",
    "print(\"\\nSentiment:\", sentiment_label)\n"
   ]
  },
  {
   "cell_type": "code",
   "execution_count": 11,
   "id": "e54c8df9",
   "metadata": {},
   "outputs": [],
   "source": [
    "#Certainly! If you want to categorize sentiments into specific aspects or categories like \"Ease of use\" or \"Value for money,\" you can use a more targeted approach.\n",
    "#One common way to achieve this is by performing aspect-based sentiment analysis.\n",
    "#This involves identifying specific aspects or topics within the text and then determining the sentiment associated with each aspect.\n",
    "\n"
   ]
  },
  {
   "cell_type": "code",
   "execution_count": null,
   "id": "cf06c322",
   "metadata": {},
   "outputs": [],
   "source": [
    "\n"
   ]
  },
  {
   "cell_type": "code",
   "execution_count": null,
   "id": "a4c2cebe",
   "metadata": {},
   "outputs": [],
   "source": []
  },
  {
   "cell_type": "code",
   "execution_count": null,
   "id": "96f916a6",
   "metadata": {},
   "outputs": [],
   "source": []
  },
  {
   "cell_type": "code",
   "execution_count": null,
   "id": "d7a7df90",
   "metadata": {},
   "outputs": [],
   "source": []
  },
  {
   "cell_type": "code",
   "execution_count": null,
   "id": "6f60dbb9",
   "metadata": {},
   "outputs": [],
   "source": []
  },
  {
   "cell_type": "code",
   "execution_count": null,
   "id": "374a10ce",
   "metadata": {},
   "outputs": [],
   "source": []
  },
  {
   "cell_type": "code",
   "execution_count": null,
   "id": "fc3e081a",
   "metadata": {},
   "outputs": [],
   "source": []
  },
  {
   "cell_type": "code",
   "execution_count": null,
   "id": "e6fd1806",
   "metadata": {},
   "outputs": [],
   "source": []
  },
  {
   "cell_type": "code",
   "execution_count": null,
   "id": "2e4cb9bb",
   "metadata": {},
   "outputs": [],
   "source": []
  },
  {
   "cell_type": "code",
   "execution_count": null,
   "id": "47991cbe",
   "metadata": {},
   "outputs": [],
   "source": []
  },
  {
   "cell_type": "code",
   "execution_count": null,
   "id": "b182ad5e",
   "metadata": {},
   "outputs": [],
   "source": []
  },
  {
   "cell_type": "code",
   "execution_count": null,
   "id": "eb9d928f",
   "metadata": {},
   "outputs": [],
   "source": []
  },
  {
   "cell_type": "code",
   "execution_count": null,
   "id": "ae962012",
   "metadata": {},
   "outputs": [],
   "source": []
  },
  {
   "cell_type": "code",
   "execution_count": null,
   "id": "48ccae7a",
   "metadata": {},
   "outputs": [],
   "source": []
  },
  {
   "cell_type": "code",
   "execution_count": null,
   "id": "fab0b0e8",
   "metadata": {},
   "outputs": [],
   "source": [
    "\n"
   ]
  },
  {
   "cell_type": "code",
   "execution_count": null,
   "id": "aefbe454",
   "metadata": {},
   "outputs": [],
   "source": []
  },
  {
   "cell_type": "code",
   "execution_count": null,
   "id": "667d1241",
   "metadata": {},
   "outputs": [],
   "source": []
  },
  {
   "cell_type": "code",
   "execution_count": null,
   "id": "65b8bedf",
   "metadata": {},
   "outputs": [],
   "source": [
    "\n"
   ]
  },
  {
   "cell_type": "code",
   "execution_count": null,
   "id": "41a70d36",
   "metadata": {},
   "outputs": [],
   "source": []
  },
  {
   "cell_type": "code",
   "execution_count": null,
   "id": "541d8f59",
   "metadata": {},
   "outputs": [],
   "source": []
  }
 ],
 "metadata": {
  "kernelspec": {
   "display_name": "Python 3 (ipykernel)",
   "language": "python",
   "name": "python3"
  },
  "language_info": {
   "codemirror_mode": {
    "name": "ipython",
    "version": 3
   },
   "file_extension": ".py",
   "mimetype": "text/x-python",
   "name": "python",
   "nbconvert_exporter": "python",
   "pygments_lexer": "ipython3",
   "version": "3.11.4"
  }
 },
 "nbformat": 4,
 "nbformat_minor": 5
}
